{
  "nbformat": 4,
  "nbformat_minor": 0,
  "metadata": {
    "colab": {
      "name": "PCA_Hurricane_Trejectory.ipynb",
      "provenance": [],
      "collapsed_sections": [],
      "toc_visible": true
    },
    "kernelspec": {
      "name": "python3",
      "display_name": "Python 3"
    }
  },
  "cells": [
    {
      "cell_type": "markdown",
      "metadata": {
        "id": "02bd1vk_Yz2r",
        "colab_type": "text"
      },
      "source": [
        "# Data reading and Pre-processing\n",
        " here that data taken into consideration that will be used for predict the trejectory of hurricane"
      ]
    },
    {
      "cell_type": "code",
      "metadata": {
        "id": "DFZHWheuHVgM",
        "colab_type": "code",
        "outputId": "a6666837-1cff-4cf1-ca0b-1fe086e6bcb3",
        "colab": {
          "base_uri": "https://localhost:8080/",
          "height": 54
        }
      },
      "source": [
        "from google.colab import drive\n",
        "drive.mount('/content/drive')"
      ],
      "execution_count": 6,
      "outputs": [
        {
          "output_type": "stream",
          "text": [
            "Drive already mounted at /content/drive; to attempt to forcibly remount, call drive.mount(\"/content/drive\", force_remount=True).\n"
          ],
          "name": "stdout"
        }
      ]
    },
    {
      "cell_type": "markdown",
      "metadata": {
        "id": "s9VT5p_raRfn",
        "colab_type": "text"
      },
      "source": [
        "**Importing Libraries**"
      ]
    },
    {
      "cell_type": "code",
      "metadata": {
        "id": "3KRy_efKaQhz",
        "colab_type": "code",
        "colab": {}
      },
      "source": [
        "import pandas as pd\n",
        "import numpy as np\n",
        "\n",
        "import timeit\n",
        "import matplotlib as mpl\n",
        "mpl.use('Agg')\n",
        "import matplotlib.pyplot as plt\n",
        "plt.style.use('fivethirtyeight')\n",
        "from ipywidgets import interact\n",
        "#from sklearn.datasets import fetch_mldata\n",
        "\n",
        "%matplotlib inline"
      ],
      "execution_count": 0,
      "outputs": []
    },
    {
      "cell_type": "markdown",
      "metadata": {
        "id": "3IcvgCRSaZZa",
        "colab_type": "text"
      },
      "source": [
        "**Read the data**"
      ]
    },
    {
      "cell_type": "code",
      "metadata": {
        "id": "iNMUtMGHY8nr",
        "colab_type": "code",
        "outputId": "ba5cdb6e-46be-4b1a-8fcd-ad2fb735b266",
        "colab": {
          "base_uri": "https://localhost:8080/",
          "height": 221
        }
      },
      "source": [
        "# data = pd.read_csv('/content/drive/My Drive/Machine Learning/Hurricane/Code/checkpoint-dataframe.csv', index_col=0) \n",
        "data = pd.read_csv('/content/drive/My Drive/ML_2020/Project code/checkpoint-dataframe.csv', index_col=0) \n",
        "\n",
        "print(data.shape)\n",
        "data.head()\n"
      ],
      "execution_count": 8,
      "outputs": [
        {
          "output_type": "stream",
          "text": [
            "(13131, 11)\n"
          ],
          "name": "stdout"
        },
        {
          "output_type": "execute_result",
          "data": {
            "text/html": [
              "<div>\n",
              "<style scoped>\n",
              "    .dataframe tbody tr th:only-of-type {\n",
              "        vertical-align: middle;\n",
              "    }\n",
              "\n",
              "    .dataframe tbody tr th {\n",
              "        vertical-align: top;\n",
              "    }\n",
              "\n",
              "    .dataframe thead th {\n",
              "        text-align: right;\n",
              "    }\n",
              "</style>\n",
              "<table border=\"1\" class=\"dataframe\">\n",
              "  <thead>\n",
              "    <tr style=\"text-align: right;\">\n",
              "      <th></th>\n",
              "      <th>Month</th>\n",
              "      <th>Day</th>\n",
              "      <th>Hour</th>\n",
              "      <th>Lat</th>\n",
              "      <th>Long</th>\n",
              "      <th>WindSpeed</th>\n",
              "      <th>Pressure</th>\n",
              "      <th>unique-key</th>\n",
              "      <th>distance</th>\n",
              "      <th>direction</th>\n",
              "      <th>gridID</th>\n",
              "    </tr>\n",
              "  </thead>\n",
              "  <tbody>\n",
              "    <tr>\n",
              "      <th>116</th>\n",
              "      <td>8</td>\n",
              "      <td>13</td>\n",
              "      <td>18</td>\n",
              "      <td>22.5</td>\n",
              "      <td>-93.5</td>\n",
              "      <td>30.0</td>\n",
              "      <td>1008</td>\n",
              "      <td>BERYL-2000-5</td>\n",
              "      <td>0.000000</td>\n",
              "      <td>0.000000</td>\n",
              "      <td>1860.0</td>\n",
              "    </tr>\n",
              "    <tr>\n",
              "      <th>117</th>\n",
              "      <td>8</td>\n",
              "      <td>14</td>\n",
              "      <td>0</td>\n",
              "      <td>22.7</td>\n",
              "      <td>-93.8</td>\n",
              "      <td>30.0</td>\n",
              "      <td>1008</td>\n",
              "      <td>BERYL-2000-5</td>\n",
              "      <td>23.610733</td>\n",
              "      <td>140.567975</td>\n",
              "      <td>1860.0</td>\n",
              "    </tr>\n",
              "    <tr>\n",
              "      <th>118</th>\n",
              "      <td>8</td>\n",
              "      <td>14</td>\n",
              "      <td>6</td>\n",
              "      <td>23.1</td>\n",
              "      <td>-94.6</td>\n",
              "      <td>35.0</td>\n",
              "      <td>1007</td>\n",
              "      <td>BERYL-2000-5</td>\n",
              "      <td>57.951317</td>\n",
              "      <td>161.351184</td>\n",
              "      <td>1859.0</td>\n",
              "    </tr>\n",
              "    <tr>\n",
              "      <th>119</th>\n",
              "      <td>8</td>\n",
              "      <td>14</td>\n",
              "      <td>12</td>\n",
              "      <td>23.5</td>\n",
              "      <td>-95.4</td>\n",
              "      <td>40.0</td>\n",
              "      <td>1009</td>\n",
              "      <td>BERYL-2000-5</td>\n",
              "      <td>57.818260</td>\n",
              "      <td>174.302218</td>\n",
              "      <td>1981.0</td>\n",
              "    </tr>\n",
              "    <tr>\n",
              "      <th>120</th>\n",
              "      <td>8</td>\n",
              "      <td>14</td>\n",
              "      <td>18</td>\n",
              "      <td>23.9</td>\n",
              "      <td>-96.3</td>\n",
              "      <td>45.0</td>\n",
              "      <td>1009</td>\n",
              "      <td>BERYL-2000-5</td>\n",
              "      <td>63.310039</td>\n",
              "      <td>337.250833</td>\n",
              "      <td>1981.0</td>\n",
              "    </tr>\n",
              "  </tbody>\n",
              "</table>\n",
              "</div>"
            ],
            "text/plain": [
              "     Month  Day  Hour   Lat  ...    unique-key   distance   direction  gridID\n",
              "116      8   13    18  22.5  ...  BERYL-2000-5   0.000000    0.000000  1860.0\n",
              "117      8   14     0  22.7  ...  BERYL-2000-5  23.610733  140.567975  1860.0\n",
              "118      8   14     6  23.1  ...  BERYL-2000-5  57.951317  161.351184  1859.0\n",
              "119      8   14    12  23.5  ...  BERYL-2000-5  57.818260  174.302218  1981.0\n",
              "120      8   14    18  23.9  ...  BERYL-2000-5  63.310039  337.250833  1981.0\n",
              "\n",
              "[5 rows x 11 columns]"
            ]
          },
          "metadata": {
            "tags": []
          },
          "execution_count": 8
        }
      ]
    },
    {
      "cell_type": "markdown",
      "metadata": {
        "id": "73UOJgDSDS6J",
        "colab_type": "text"
      },
      "source": [
        "**Data pre-processing**"
      ]
    },
    {
      "cell_type": "code",
      "metadata": {
        "id": "OAMl39y-coU8",
        "colab_type": "code",
        "outputId": "e7172196-a955-447d-ebf7-9ce06f82a226",
        "colab": {
          "base_uri": "https://localhost:8080/",
          "height": 272
        }
      },
      "source": [
        "mix_year_hurri_num=  data['unique-key'].str.split('-',n=2,expand=True)\n",
        "\n",
        "data['year'] = mix_year_hurri_num[1]\n",
        "data['hurricane_number'] = mix_year_hurri_num[2]\n",
        "\n",
        "data = data[~data['year'].str.contains(\"TWO\")]\n",
        "\n",
        "data['year'] = data['year'].astype(int)\n",
        "data['hurricane_number'] = data['hurricane_number'].astype(int)\n",
        "\n",
        "# Delete the columns of information that we are not using so far\n",
        "data.drop(['unique-key'], axis = 1, inplace = True)\n",
        "\n",
        "#data = np.array(data)\n",
        "#data = data[:8, :]\n",
        "print(data.shape)\n",
        "print(data)"
      ],
      "execution_count": 9,
      "outputs": [
        {
          "output_type": "stream",
          "text": [
            "(13104, 12)\n",
            "       Month  Day  Hour   Lat  ...   direction  gridID  year  hurricane_number\n",
            "116        8   13    18  22.5  ...    0.000000  1860.0  2000                 5\n",
            "117        8   14     0  22.7  ...  140.567975  1860.0  2000                 5\n",
            "118        8   14     6  23.1  ...  161.351184  1859.0  2000                 5\n",
            "119        8   14    12  23.5  ...  174.302218  1981.0  2000                 5\n",
            "120        8   14    18  23.9  ...  337.250833  1981.0  2000                 5\n",
            "...      ...  ...   ...   ...  ...         ...     ...   ...               ...\n",
            "33162      9   28    12  24.9  ...   16.567852  2119.0  1929                 2\n",
            "33163      9   28    13  25.0  ...  185.868985  2119.0  1929                 2\n",
            "33174     10    1     4  30.2  ...   32.902723  2852.0  1929                 2\n",
            "33175     10    1     6  30.4  ...   19.576091  2852.0  1929                 2\n",
            "33176     10    1    12  31.0  ...   58.545288  2854.0  1929                 2\n",
            "\n",
            "[13104 rows x 12 columns]\n"
          ],
          "name": "stdout"
        }
      ]
    },
    {
      "cell_type": "markdown",
      "metadata": {
        "id": "DcnQ4D_BDYGC",
        "colab_type": "text"
      },
      "source": [
        "**Description of data**"
      ]
    },
    {
      "cell_type": "code",
      "metadata": {
        "id": "BqXUQ6bKftQd",
        "colab_type": "code",
        "outputId": "f146b4fe-ff7b-4859-8bf8-077a689de3c1",
        "colab": {
          "base_uri": "https://localhost:8080/",
          "height": 317
        }
      },
      "source": [
        "data.describe()"
      ],
      "execution_count": 10,
      "outputs": [
        {
          "output_type": "execute_result",
          "data": {
            "text/html": [
              "<div>\n",
              "<style scoped>\n",
              "    .dataframe tbody tr th:only-of-type {\n",
              "        vertical-align: middle;\n",
              "    }\n",
              "\n",
              "    .dataframe tbody tr th {\n",
              "        vertical-align: top;\n",
              "    }\n",
              "\n",
              "    .dataframe thead th {\n",
              "        text-align: right;\n",
              "    }\n",
              "</style>\n",
              "<table border=\"1\" class=\"dataframe\">\n",
              "  <thead>\n",
              "    <tr style=\"text-align: right;\">\n",
              "      <th></th>\n",
              "      <th>Month</th>\n",
              "      <th>Day</th>\n",
              "      <th>Hour</th>\n",
              "      <th>Lat</th>\n",
              "      <th>Long</th>\n",
              "      <th>WindSpeed</th>\n",
              "      <th>Pressure</th>\n",
              "      <th>distance</th>\n",
              "      <th>direction</th>\n",
              "      <th>gridID</th>\n",
              "      <th>year</th>\n",
              "      <th>hurricane_number</th>\n",
              "    </tr>\n",
              "  </thead>\n",
              "  <tbody>\n",
              "    <tr>\n",
              "      <th>count</th>\n",
              "      <td>13104.000000</td>\n",
              "      <td>13104.000000</td>\n",
              "      <td>13104.000000</td>\n",
              "      <td>13104.000000</td>\n",
              "      <td>13104.000000</td>\n",
              "      <td>13104.000000</td>\n",
              "      <td>13104.000000</td>\n",
              "      <td>13104.000000</td>\n",
              "      <td>13104.000000</td>\n",
              "      <td>13104.000000</td>\n",
              "      <td>13104.000000</td>\n",
              "      <td>13104.000000</td>\n",
              "    </tr>\n",
              "    <tr>\n",
              "      <th>mean</th>\n",
              "      <td>8.721993</td>\n",
              "      <td>15.837988</td>\n",
              "      <td>9.186508</td>\n",
              "      <td>26.913126</td>\n",
              "      <td>-64.388271</td>\n",
              "      <td>50.923153</td>\n",
              "      <td>993.834020</td>\n",
              "      <td>89.112623</td>\n",
              "      <td>171.476214</td>\n",
              "      <td>2410.704747</td>\n",
              "      <td>1992.917735</td>\n",
              "      <td>9.512210</td>\n",
              "    </tr>\n",
              "    <tr>\n",
              "      <th>std</th>\n",
              "      <td>1.376036</td>\n",
              "      <td>8.913061</td>\n",
              "      <td>6.729815</td>\n",
              "      <td>9.814612</td>\n",
              "      <td>20.200861</td>\n",
              "      <td>25.914815</td>\n",
              "      <td>18.030209</td>\n",
              "      <td>85.564815</td>\n",
              "      <td>112.524342</td>\n",
              "      <td>1211.130241</td>\n",
              "      <td>14.895226</td>\n",
              "      <td>5.880465</td>\n",
              "    </tr>\n",
              "    <tr>\n",
              "      <th>min</th>\n",
              "      <td>1.000000</td>\n",
              "      <td>1.000000</td>\n",
              "      <td>0.000000</td>\n",
              "      <td>7.200000</td>\n",
              "      <td>-109.300000</td>\n",
              "      <td>10.000000</td>\n",
              "      <td>882.000000</td>\n",
              "      <td>0.000000</td>\n",
              "      <td>0.000000</td>\n",
              "      <td>64.000000</td>\n",
              "      <td>1928.000000</td>\n",
              "      <td>1.000000</td>\n",
              "    </tr>\n",
              "    <tr>\n",
              "      <th>25%</th>\n",
              "      <td>8.000000</td>\n",
              "      <td>8.000000</td>\n",
              "      <td>6.000000</td>\n",
              "      <td>18.900000</td>\n",
              "      <td>-80.800000</td>\n",
              "      <td>30.000000</td>\n",
              "      <td>987.000000</td>\n",
              "      <td>43.552785</td>\n",
              "      <td>70.931121</td>\n",
              "      <td>1405.000000</td>\n",
              "      <td>1983.000000</td>\n",
              "      <td>5.000000</td>\n",
              "    </tr>\n",
              "    <tr>\n",
              "      <th>50%</th>\n",
              "      <td>9.000000</td>\n",
              "      <td>16.000000</td>\n",
              "      <td>12.000000</td>\n",
              "      <td>26.700000</td>\n",
              "      <td>-65.800000</td>\n",
              "      <td>45.000000</td>\n",
              "      <td>1000.000000</td>\n",
              "      <td>72.781029</td>\n",
              "      <td>177.125295</td>\n",
              "      <td>2372.000000</td>\n",
              "      <td>1996.000000</td>\n",
              "      <td>9.000000</td>\n",
              "    </tr>\n",
              "    <tr>\n",
              "      <th>75%</th>\n",
              "      <td>10.000000</td>\n",
              "      <td>24.000000</td>\n",
              "      <td>18.000000</td>\n",
              "      <td>33.300000</td>\n",
              "      <td>-49.500000</td>\n",
              "      <td>65.000000</td>\n",
              "      <td>1006.000000</td>\n",
              "      <td>111.210945</td>\n",
              "      <td>264.514522</td>\n",
              "      <td>3224.250000</td>\n",
              "      <td>2005.000000</td>\n",
              "      <td>13.000000</td>\n",
              "    </tr>\n",
              "    <tr>\n",
              "      <th>max</th>\n",
              "      <td>12.000000</td>\n",
              "      <td>31.000000</td>\n",
              "      <td>23.000000</td>\n",
              "      <td>66.000000</td>\n",
              "      <td>13.500000</td>\n",
              "      <td>165.000000</td>\n",
              "      <td>1024.000000</td>\n",
              "      <td>1767.320184</td>\n",
              "      <td>359.938162</td>\n",
              "      <td>7256.000000</td>\n",
              "      <td>2012.000000</td>\n",
              "      <td>31.000000</td>\n",
              "    </tr>\n",
              "  </tbody>\n",
              "</table>\n",
              "</div>"
            ],
            "text/plain": [
              "              Month           Day  ...          year  hurricane_number\n",
              "count  13104.000000  13104.000000  ...  13104.000000      13104.000000\n",
              "mean       8.721993     15.837988  ...   1992.917735          9.512210\n",
              "std        1.376036      8.913061  ...     14.895226          5.880465\n",
              "min        1.000000      1.000000  ...   1928.000000          1.000000\n",
              "25%        8.000000      8.000000  ...   1983.000000          5.000000\n",
              "50%        9.000000     16.000000  ...   1996.000000          9.000000\n",
              "75%       10.000000     24.000000  ...   2005.000000         13.000000\n",
              "max       12.000000     31.000000  ...   2012.000000         31.000000\n",
              "\n",
              "[8 rows x 12 columns]"
            ]
          },
          "metadata": {
            "tags": []
          },
          "execution_count": 10
        }
      ]
    },
    {
      "cell_type": "markdown",
      "metadata": {
        "id": "FFovE_I8j9bU",
        "colab_type": "text"
      },
      "source": [
        "# Functions\n",
        "1.   normalize\n",
        "2.   eigen value\n",
        "3.   projection matrix\n",
        "4.   MSE (Mean Square Error)\n",
        "5.   PCA\n",
        "6.   PCA_non_ordered_eig_val\n",
        "\n"
      ]
    },
    {
      "cell_type": "code",
      "metadata": {
        "id": "UuV1hAp3Ru0R",
        "colab_type": "code",
        "colab": {}
      },
      "source": [
        "def normalize(X):\n",
        "    \"\"\"Normalize the given dataset X\n",
        "    Args:\n",
        "        X: ndarray, dataset\n",
        "\n",
        "    Returns:\n",
        "        (Xbar, mean, std): tuple of ndarray, Xbar is the normalized dataset\n",
        "        with mean 0 and standard deviation 1; mean and std are the\n",
        "        mean and standard deviation respectively.\n",
        "\n",
        "    Note:\n",
        "        You will encounter dimensions where the standard deviation is\n",
        "        zero, for those when you do normalization the normalized data\n",
        "        will be NaN. Handle this by setting using `std = 1` for those\n",
        "        dimensions when doing normalization.\n",
        "    \"\"\"\n",
        "    mu = np.mean(X, axis=0) # <-- Q1: Compute the mean of X\n",
        "    std = np.std(X, axis=0)# <-- Q2: Compute the std of X\n",
        "    std_filled = std.copy()\n",
        "    std_filled[std==0] = 1.\n",
        "    Xbar = (X-mu)/std_filled # <-- Q3: Compute the normalized data Xbar\n",
        "    return Xbar, mu, std # Q4-Q6 are below"
      ],
      "execution_count": 0,
      "outputs": []
    },
    {
      "cell_type": "code",
      "metadata": {
        "id": "elvBIqQwTHoR",
        "colab_type": "code",
        "colab": {}
      },
      "source": [
        "def eig_sort(S):\n",
        "    \"\"\"Compute the eigenvalues and corresponding eigenvectors\n",
        "        for the covariance matrix S.\n",
        "    Args:\n",
        "        S: ndarray, covariance matrix\n",
        "\n",
        "    Returns:\n",
        "        ray, the eigenvalues and eigenvectors\n",
        "    Note:\n",
        "        the eigenvals and eigenvecs should be sorted in descending\n",
        "        order of the eigen values\n",
        "    \"\"\"\n",
        "    eigvals, eigvecs = np.linalg.eig(S)\n",
        "    #Q7 Write code here to sort eigen values and corresponding eigen vectors in descending order\n",
        "    idx = eigvals.argsort()[::-1]   \n",
        "    eigvals = eigvals[idx]\n",
        "    eigvecs = eigvecs[:,idx]\n",
        "\n",
        "\n",
        "    return (eigvals, eigvecs) # <-- Q8: EDIT this to return the eigenvalues and corresponding eigenvectors"
      ],
      "execution_count": 0,
      "outputs": []
    },
    {
      "cell_type": "code",
      "metadata": {
        "id": "BgbRblIrTYP2",
        "colab_type": "code",
        "colab": {}
      },
      "source": [
        "def projection_matrix(B):\n",
        "    \"\"\"Compute the projection matrix onto the space spanned by `B`\n",
        "    Args:\n",
        "        B: ndarray of dimension (D, M), the basis for the subspace\n",
        "\n",
        "    Returns:\n",
        "        P: the projection matrix\n",
        "    \"\"\"\n",
        "    P = np.matmul(B, B.T) # <-- Q9: EDIT THIS to compute the projection matrix\n",
        "    return P"
      ],
      "execution_count": 0,
      "outputs": []
    },
    {
      "cell_type": "code",
      "metadata": {
        "id": "Gh4hlEFJF0ZC",
        "colab_type": "code",
        "colab": {}
      },
      "source": [
        "def mse(predict, actual):\n",
        "    \"\"\"Helper function for computing the mean squared error (MSE)\"\"\"\n",
        "    return np.square(predict - actual).sum(axis=1).mean()"
      ],
      "execution_count": 0,
      "outputs": []
    },
    {
      "cell_type": "code",
      "metadata": {
        "id": "efxsv2wgTdlk",
        "colab_type": "code",
        "colab": {}
      },
      "source": [
        "def PCA(X, num_components, sort = True):\n",
        "    \"\"\"\n",
        "    Args:\n",
        "        X: ndarray of size (N, D), where D is the dimension of the data,\n",
        "        and N is the number of datapoints\n",
        "        num_components: the number of principal components to use.\n",
        "        sort: eigen value and vector in sort order\n",
        "    Returns:\n",
        "        X_reconstruct: ndarray of the reconstruction\n",
        "        of X from the first `num_components` principal components.\n",
        "    \"\"\"\n",
        "    # your solution should take advantage of the functions you have implemented above.\n",
        "    Xbar, mu, std = normalize(X)\n",
        "    \n",
        "    covariance = np.matmul(Xbar.T,Xbar)\n",
        "    # print(covariance.shape)\n",
        "    S = covariance\n",
        "    if sort == True:\n",
        "        eigvals, eigvecs = eig_sort(S)\n",
        "    else:\n",
        "        eigvals, eigvecs = np.linalg.eig(S)\n",
        "    # eigen_trans = eigvecs.T\n",
        "    # B = np.stack(eigen_trans[:,:num_components])\n",
        "    B = np.stack(eigvecs[:,:num_components])\n",
        "    P = np.matmul(B,B.T)\n",
        "    X_reconstruct = np.matmul(P,X.T)\n",
        "    X_reconstruct = X_reconstruct.T\n",
        "    return X_reconstruct # <-- EDIT THIS to return the reconstruction of X\n",
        "     # <-- Q11: EDIT THIS to return the reconstruction of X"
      ],
      "execution_count": 0,
      "outputs": []
    },
    {
      "cell_type": "markdown",
      "metadata": {
        "id": "IL2gpOsfJXrJ",
        "colab_type": "text"
      },
      "source": [
        "PCA with non ordered eigen values"
      ]
    },
    {
      "cell_type": "code",
      "metadata": {
        "colab_type": "code",
        "id": "xY7lMOFIJeB6",
        "outputId": "c19cb068-dfa8-46c4-f87f-ed2a5827b913",
        "colab": {
          "base_uri": "https://localhost:8080/",
          "height": 54
        }
      },
      "source": [
        "'''\n",
        "def PCA_non_ordered_eig_val(X, num_components):\n",
        "    \"\"\"\n",
        "    Args:\n",
        "        X: ndarray of size (N, D), where D is the dimension of the data,\n",
        "        and N is the number of datapoints\n",
        "        num_components: the number of principal components to use.\n",
        "    Returns:\n",
        "        X_reconstruct: ndarray of the reconstruction\n",
        "        of X from the first `num_components` principal components.\n",
        "    \"\"\"\n",
        "    # your solution should take advantage of the functions you have implemented above.\n",
        "    Xbar, mu, std = normalize(X)\n",
        "    \n",
        "    covariance = np.matmul(Xbar.T,Xbar)\n",
        "    print(covariance.shape)\n",
        "    S = covariance\n",
        "    eigvals, eigvecs = np.linalg.eig(S)\n",
        "    # eigen_trans = eigvecs.T\n",
        "    # B = np.stack(eigen_trans[:,:num_components])\n",
        "    B = np.stack(eigvecs[:,:num_components])\n",
        "    P = np.matmul(B,B.T)\n",
        "    X_reconstruct = np.matmul(P,X.T)\n",
        "    X_reconstruct = X_reconstruct.T\n",
        "    return X_reconstruct # <-- EDIT THIS to return the reconstruction of X\n",
        "     # <-- Q11: EDIT THIS to return the reconstruction of X\n",
        "'''"
      ],
      "execution_count": 16,
      "outputs": [
        {
          "output_type": "execute_result",
          "data": {
            "text/plain": [
              "'\\ndef PCA_non_ordered_eig_val(X, num_components):\\n    \"\"\"\\n    Args:\\n        X: ndarray of size (N, D), where D is the dimension of the data,\\n        and N is the number of datapoints\\n        num_components: the number of principal components to use.\\n    Returns:\\n        X_reconstruct: ndarray of the reconstruction\\n        of X from the first `num_components` principal components.\\n    \"\"\"\\n    # your solution should take advantage of the functions you have implemented above.\\n    Xbar, mu, std = normalize(X)\\n    \\n    covariance = np.matmul(Xbar.T,Xbar)\\n    print(covariance.shape)\\n    S = covariance\\n    eigvals, eigvecs = np.linalg.eig(S)\\n    # eigen_trans = eigvecs.T\\n    # B = np.stack(eigen_trans[:,:num_components])\\n    B = np.stack(eigvecs[:,:num_components])\\n    P = np.matmul(B,B.T)\\n    X_reconstruct = np.matmul(P,X.T)\\n    X_reconstruct = X_reconstruct.T\\n    return X_reconstruct # <-- EDIT THIS to return the reconstruction of X\\n     # <-- Q11: EDIT THIS to return the reconstruction of X\\n'"
            ]
          },
          "metadata": {
            "tags": []
          },
          "execution_count": 16
        }
      ]
    },
    {
      "cell_type": "markdown",
      "metadata": {
        "id": "yIT2BrkMkXHK",
        "colab_type": "text"
      },
      "source": [
        "# PCA Implementation"
      ]
    },
    {
      "cell_type": "markdown",
      "metadata": {
        "id": "Eb0B_1sQExAu",
        "colab_type": "text"
      },
      "source": [
        "##Compare Normalize data using library and Normalize using function mentioned in previous section"
      ]
    },
    {
      "cell_type": "code",
      "metadata": {
        "id": "Ed_4Vk_MjZF8",
        "colab_type": "code",
        "outputId": "dc077889-3ab8-4b8f-fe3b-2db72088ece8",
        "colab": {
          "base_uri": "https://localhost:8080/",
          "height": 34
        }
      },
      "source": [
        "## Some preprocessing of the data\n",
        "\n",
        "X = np.array(data)\n",
        "# X = data.to_numpy()\n",
        "print('x',X.shape)\n",
        "Xbar, mu, std = normalize(X) # Q4: Call the function and examine the shapes of Xbar, mu and std\n"
      ],
      "execution_count": 17,
      "outputs": [
        {
          "output_type": "stream",
          "text": [
            "x (13104, 12)\n"
          ],
          "name": "stdout"
        }
      ]
    },
    {
      "cell_type": "code",
      "metadata": {
        "id": "3ak76lkEkRYr",
        "colab_type": "code",
        "outputId": "9d422f70-5daf-4853-9da5-dd9bbca25ac3",
        "colab": {
          "base_uri": "https://localhost:8080/",
          "height": 51
        }
      },
      "source": [
        "S = np.matmul(Xbar.T, Xbar)\n",
        "print(S.shape)\n",
        "np.trace(S)\n"
      ],
      "execution_count": 18,
      "outputs": [
        {
          "output_type": "stream",
          "text": [
            "(12, 12)\n"
          ],
          "name": "stdout"
        },
        {
          "output_type": "execute_result",
          "data": {
            "text/plain": [
              "157248.00000000006"
            ]
          },
          "metadata": {
            "tags": []
          },
          "execution_count": 18
        }
      ]
    },
    {
      "cell_type": "code",
      "metadata": {
        "id": "8ER6GG3rFvrJ",
        "colab_type": "code",
        "outputId": "bf9c8d0f-21ea-47b8-e0f8-fcb469594f78",
        "colab": {
          "base_uri": "https://localhost:8080/",
          "height": 68
        }
      },
      "source": [
        "# Normalization can also be done as below by library: (simply run the cell and verify its trace with the trace found above)\n",
        "from sklearn.preprocessing import StandardScaler#try\n",
        "\n",
        "standardized_data = StandardScaler(with_mean=True,with_std=True)\n",
        "standardized_data = standardized_data.fit_transform(Xbar)\n",
        "print(standardized_data.shape)\n",
        "#find the co-variance matrix which is : A^T * A\n",
        "sample_data = standardized_data\n",
        "\n",
        "# matrix multiplication using numpy\n",
        "covar_matrix = np.matmul(sample_data.T, sample_data)\n",
        "\n",
        "print ( \"The shape of covariance matrix = \", covar_matrix.shape)\n",
        "\n",
        "print(np.trace(covar_matrix))"
      ],
      "execution_count": 19,
      "outputs": [
        {
          "output_type": "stream",
          "text": [
            "(13104, 12)\n",
            "The shape of covariance matrix =  (12, 12)\n",
            "157248.0000000001\n"
          ],
          "name": "stdout"
        }
      ]
    },
    {
      "cell_type": "markdown",
      "metadata": {
        "id": "B6q7ek_nFhmx",
        "colab_type": "text"
      },
      "source": [
        "##PCA"
      ]
    },
    {
      "cell_type": "code",
      "metadata": {
        "id": "UP58hYh-FkWF",
        "colab_type": "code",
        "outputId": "724fcafa-e6bc-41e3-8354-06e102cb8b3e",
        "colab": {
          "base_uri": "https://localhost:8080/",
          "height": 51
        }
      },
      "source": [
        "num_components=5\n",
        "print('Xbar', Xbar.shape)\n",
        "X_recon = PCA(X, num_components)\n",
        "print('X_rec',X_recon.shape)"
      ],
      "execution_count": 20,
      "outputs": [
        {
          "output_type": "stream",
          "text": [
            "Xbar (13104, 12)\n",
            "X_rec (13104, 12)\n"
          ],
          "name": "stdout"
        }
      ]
    },
    {
      "cell_type": "code",
      "metadata": {
        "id": "csz7vng_GSBU",
        "colab_type": "code",
        "outputId": "0d77d60e-4f13-4a43-ab5f-5478184ef542",
        "colab": {
          "base_uri": "https://localhost:8080/",
          "height": 493
        }
      },
      "source": [
        "loss_sort = []\n",
        "loss_nsort = []\n",
        "\n",
        "reconstructions = []\n",
        "# iterate over different numbers of principal components, and compute the MSE\n",
        "for num_component in range(1, 8):\n",
        "    print('\\n------------- num_component =',num_component ,'-------------')\n",
        "\n",
        "    reconst_sort = PCA(Xbar, num_component, sort=True)\n",
        "    error_sort = mse(reconst_sort, Xbar)\n",
        "    reconstructions.append(reconst_sort)\n",
        "    loss_sort.append((num_component, error_sort))\n",
        "    print('Sorted: reconstruction_error = {:f}'.format(error_sort))\n",
        "\n",
        "    reconst_nsort = PCA(Xbar, num_component, sort=False)\n",
        "    error_nsort = mse(reconst_nsort, Xbar)\n",
        "    loss_nsort.append((num_component, error_nsort))\n",
        "    print('Non Sorted: reconstruction_error = {:f}'.format(error_nsort))\n",
        "    \n",
        "    \n",
        "\n",
        "reconstructions = np.asarray(reconstructions)\n",
        "reconstructions = reconstructions * std + mu # \"unnormalize\" the reconstructed image\n",
        "loss_sort = np.asarray(loss_sort)\n",
        "\n",
        "loss_nsort = np.asarray(loss_nsort)"
      ],
      "execution_count": 33,
      "outputs": [
        {
          "output_type": "stream",
          "text": [
            "\n",
            "------------- num_component = 1 -------------\n",
            "Sorted: reconstruction_error = 9.699718\n",
            "Non Sorted: reconstruction_error = 9.699718\n",
            "\n",
            "------------- num_component = 2 -------------\n",
            "Sorted: reconstruction_error = 7.664719\n",
            "Non Sorted: reconstruction_error = 7.664719\n",
            "\n",
            "------------- num_component = 3 -------------\n",
            "Sorted: reconstruction_error = 6.009714\n",
            "Non Sorted: reconstruction_error = 6.009714\n",
            "\n",
            "------------- num_component = 4 -------------\n",
            "Sorted: reconstruction_error = 4.934836\n",
            "Non Sorted: reconstruction_error = 5.737837\n",
            "\n",
            "------------- num_component = 5 -------------\n",
            "Sorted: reconstruction_error = 3.882095\n",
            "Non Sorted: reconstruction_error = 5.666950\n",
            "\n",
            "------------- num_component = 6 -------------\n",
            "Sorted: reconstruction_error = 2.870607\n",
            "Non Sorted: reconstruction_error = 5.666525\n",
            "\n",
            "------------- num_component = 7 -------------\n",
            "Sorted: reconstruction_error = 1.901649\n",
            "Non Sorted: reconstruction_error = 5.022730\n"
          ],
          "name": "stdout"
        }
      ]
    },
    {
      "cell_type": "code",
      "metadata": {
        "id": "Mzl7AYYfJs0x",
        "colab_type": "code",
        "outputId": "87e655ec-b0a1-4883-86c5-929ab36b4b58",
        "colab": {
          "base_uri": "https://localhost:8080/",
          "height": 204
        }
      },
      "source": [
        "# create a table showing the number of principal components and MSE\n",
        "pd.DataFrame(loss_sort).head()"
      ],
      "execution_count": 34,
      "outputs": [
        {
          "output_type": "execute_result",
          "data": {
            "text/html": [
              "<div>\n",
              "<style scoped>\n",
              "    .dataframe tbody tr th:only-of-type {\n",
              "        vertical-align: middle;\n",
              "    }\n",
              "\n",
              "    .dataframe tbody tr th {\n",
              "        vertical-align: top;\n",
              "    }\n",
              "\n",
              "    .dataframe thead th {\n",
              "        text-align: right;\n",
              "    }\n",
              "</style>\n",
              "<table border=\"1\" class=\"dataframe\">\n",
              "  <thead>\n",
              "    <tr style=\"text-align: right;\">\n",
              "      <th></th>\n",
              "      <th>0</th>\n",
              "      <th>1</th>\n",
              "    </tr>\n",
              "  </thead>\n",
              "  <tbody>\n",
              "    <tr>\n",
              "      <th>0</th>\n",
              "      <td>1.0</td>\n",
              "      <td>9.699718</td>\n",
              "    </tr>\n",
              "    <tr>\n",
              "      <th>1</th>\n",
              "      <td>2.0</td>\n",
              "      <td>7.664719</td>\n",
              "    </tr>\n",
              "    <tr>\n",
              "      <th>2</th>\n",
              "      <td>3.0</td>\n",
              "      <td>6.009714</td>\n",
              "    </tr>\n",
              "    <tr>\n",
              "      <th>3</th>\n",
              "      <td>4.0</td>\n",
              "      <td>4.934836</td>\n",
              "    </tr>\n",
              "    <tr>\n",
              "      <th>4</th>\n",
              "      <td>5.0</td>\n",
              "      <td>3.882095</td>\n",
              "    </tr>\n",
              "  </tbody>\n",
              "</table>\n",
              "</div>"
            ],
            "text/plain": [
              "     0         1\n",
              "0  1.0  9.699718\n",
              "1  2.0  7.664719\n",
              "2  3.0  6.009714\n",
              "3  4.0  4.934836\n",
              "4  5.0  3.882095"
            ]
          },
          "metadata": {
            "tags": []
          },
          "execution_count": 34
        }
      ]
    },
    {
      "cell_type": "markdown",
      "metadata": {
        "id": "hZtD_pYbKDPN",
        "colab_type": "text"
      },
      "source": [
        "We can also put these numbers into perspective by plotting them."
      ]
    },
    {
      "cell_type": "code",
      "metadata": {
        "id": "CSseHEniG44t",
        "colab_type": "code",
        "outputId": "eaee95a8-6c9e-4efc-b49a-e06d334b8abd",
        "colab": {
          "base_uri": "https://localhost:8080/",
          "height": 575
        }
      },
      "source": [
        "\n",
        "fig, ax = plt.subplots()\n",
        "ax.plot(loss_sort[:,0], loss_sort[:,1])\n",
        "ax.axhline(2, linestyle='--', color='r', linewidth=2)\n",
        "ax.xaxis.set_ticks(np.arange(1, 8, 1));\n",
        "ax.set(xlabel='num_components', ylabel='MSE', title='MSE vs number of principal components for sorted eigen value');\n",
        "\n",
        "fig, ax = plt.subplots()\n",
        "ax.plot(loss_nsort[:,0], loss_nsort[:,1])\n",
        "ax.axhline(2, linestyle='--', color='r', linewidth=2)\n",
        "ax.xaxis.set_ticks(np.arange(1, 8, 1));\n",
        "ax.set(xlabel='num_components', ylabel='MSE', title='MSE vs number of principal components for non sorted eigen value');\n",
        "\n"
      ],
      "execution_count": 35,
      "outputs": [
        {
          "output_type": "display_data",
          "data": {
            "image/png": "[encoded data removed]",
            "text/plain": [
              "<Figure size 432x288 with 1 Axes>"
            ]
          },
          "metadata": {
            "tags": []
          }
        },
        {
          "output_type": "display_data",
          "data": {
            "image/png": "[encoded data removed]",
            "text/plain": [
              "<Figure size 432x288 with 1 Axes>"
            ]
          },
          "metadata": {
            "tags": []
          }
        }
      ]
    },
    {
      "cell_type": "markdown",
      "metadata": {
        "id": "ipMgaBjGHvv2",
        "colab_type": "text"
      },
      "source": [
        "Compute graph Eigenvalue vs Index"
      ]
    },
    {
      "cell_type": "code",
      "metadata": {
        "id": "M2MgUA0PvBwP",
        "colab_type": "code",
        "outputId": "1a427060-e85f-4002-c576-58520887aabf",
        "colab": {
          "base_uri": "https://localhost:8080/",
          "height": 575
        }
      },
      "source": [
        "'''\n",
        "fig, ax = plt.subplots()\n",
        "ax.plot(range(len(eigvals)), eigvals);\n",
        "#ax.xaxis.set_ticks(np.arange(1, 10, 5));\n",
        "ax.set(xlabel='Index', ylabel='Eigen Value', title='Eigenvalues (sorted in descending order) of the data covariance matrix of all digits 8 in the MNIST training set.');\n",
        "'''\n",
        "Xbar, mu, std = normalize(X)    \n",
        "covariance = np.matmul(Xbar.T,Xbar)\n",
        "# print(covariance.shape)\n",
        "S = covariance\n",
        "\n",
        "eigvals_sort, eigvecs_sort = eig_sort(S)\n",
        "\n",
        "eigvals_nsort, eigvecs_nsort = np.linalg.eig(S)\n",
        "\n",
        "fig, ax = plt.subplots()\n",
        "ax.plot(range(len(eigvals_sort)), eigvals_sort,marker=\"x\")\n",
        "ax.set(xlabel='Index', ylabel='Eigen Value', title='Eigenvalues (sorted in descending order) of the data covariance matrix');\n",
        "\n",
        "fig, ax = plt.subplots()\n",
        "ax.plot(range(len(eigvals_nsort)), eigvals_nsort,marker=\"x\")\n",
        "ax.set(xlabel='Index', ylabel='Eigen Value', title='Eigenvalues (Not sorted) of the data covariance matrix');\n"
      ],
      "execution_count": 32,
      "outputs": [
        {
          "output_type": "display_data",
          "data": {
            "image/png": "[encoded data removed]",
            "text/plain": [
              "<Figure size 432x288 with 1 Axes>"
            ]
          },
          "metadata": {
            "tags": []
          }
        },
        {
          "output_type": "display_data",
          "data": {
            "image/png": "[encoded data removed]",
            "text/plain": [
              "<Figure size 432x288 with 1 Axes>"
            ]
          },
          "metadata": {
            "tags": []
          }
        }
      ]
    },
    {
      "cell_type": "markdown",
      "metadata": {
        "id": "5E4ymiMCH-cW",
        "colab_type": "text"
      },
      "source": [
        "Compute Graph captured variance vs Number of principle component"
      ]
    },
    {
      "cell_type": "code",
      "metadata": {
        "id": "LIGYZk9P6rq9",
        "colab_type": "code",
        "outputId": "edb10469-0023-4236-9461-607fc0d35f85",
        "colab": {
          "base_uri": "https://localhost:8080/",
          "height": 575
        }
      },
      "source": [
        "#import pandas as pd\n",
        "seris_eigval_sort = pd.Series(eigvals_sort)\n",
        "\n",
        "seris_eigval_nsort = pd.Series(eigvals_nsort)\n",
        "\n",
        "\n",
        "fig, ax = plt.subplots()\n",
        "ax.plot(range(len(eigvals_sort)), seris_eigval_sort.cumsum());\n",
        "#ax.xaxis.set_ticks(np.arange(1, 10, 5));\n",
        "ax.set(ylabel='Captured variance', xlabel='Number of principal components', title='Variance captured by the principal components associated with the largest eigenvalues(Sorted).');\n",
        "plt.show()\n",
        "\n",
        "fig, ax = plt.subplots()\n",
        "ax.plot(range(len(eigvals_nsort)), seris_eigval_nsort.cumsum());\n",
        "#ax.xaxis.set_ticks(np.arange(1, 10, 5));\n",
        "ax.set(ylabel='Captured variance', xlabel='Number of principal components', title='Variance captured by the principal components associated with the largest eigenvalues(Not Sorted).');\n",
        "plt.show()\n"
      ],
      "execution_count": 25,
      "outputs": [
        {
          "output_type": "display_data",
          "data": {
            "image/png": "[encoded data removed]",
            "text/plain": [
              "<Figure size 432x288 with 1 Axes>"
            ]
          },
          "metadata": {
            "tags": []
          }
        },
        {
          "output_type": "display_data",
          "data": {
            "image/png": "[encoded data removed]",
            "text/plain": [
              "<Figure size 432x288 with 1 Axes>"
            ]
          },
          "metadata": {
            "tags": []
          }
        }
      ]
    }
  ]
}
